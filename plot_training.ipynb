{
 "cells": [
  {
   "cell_type": "code",
   "execution_count": null,
   "id": "eb87da65",
   "metadata": {},
   "outputs": [],
   "source": [
    "import json\n",
    "import os\n",
    "\n",
    "import numpy as np\n",
    "\n",
    "import matplotlib\n",
    "import matplotlib.pyplot as plt\n",
    "from mpl_toolkits.axes_grid1 import make_axes_locatable\n",
    "from matplotlib.ticker import MultipleLocator, AutoMinorLocator\n",
    "from matplotlib import rc\n",
    "rc('font', **{'family': 'serif', 'serif': ['Computer Modern']})\n",
    "rc('text', usetex=True)\n",
    "%matplotlib inline"
   ]
  },
  {
   "cell_type": "code",
   "execution_count": null,
   "id": "358f05d1",
   "metadata": {},
   "outputs": [],
   "source": [
    "from learning import *"
   ]
  },
  {
   "cell_type": "code",
   "execution_count": null,
   "id": "e67e5228",
   "metadata": {},
   "outputs": [],
   "source": [
    "THOUSAND = 1000\n",
    "TENTHOUSAND = 10000\n",
    "HUNDREDTHOUSAND = 100000\n",
    "MILLION = 1000000"
   ]
  },
  {
   "cell_type": "code",
   "execution_count": null,
   "id": "5119f4b2",
   "metadata": {},
   "outputs": [],
   "source": [
    "def get_plot_path(name, ftype, bins):\n",
    "    return 'agents/{}/{}_dplot_bins_{}_{}.{}'.format(name, name, bins[0], bins[1], ftype)"
   ]
  },
  {
   "cell_type": "code",
   "execution_count": null,
   "id": "33476ce2",
   "metadata": {},
   "outputs": [],
   "source": [
    "def get_plot_path_zoom(name, ftype, bins):\n",
    "    return 'agents/{}/{}_dplot_zoom_bins_{}_{}.{}'.format(name, name, bins[0], bins[1], ftype)"
   ]
  },
  {
   "cell_type": "code",
   "execution_count": null,
   "id": "9add7b66",
   "metadata": {},
   "outputs": [],
   "source": [
    "name = 'dqn30_5b5_3216_adam_lr0.001_tmu0.01_ml50K_ns5M_eps0.1_a6_b0'"
   ]
  },
  {
   "cell_type": "code",
   "execution_count": null,
   "id": "2e1e8a90",
   "metadata": {},
   "outputs": [],
   "source": [
    "with open(get_training_path(name), 'r') as f:\n",
    "    data = json.load(f)"
   ]
  },
  {
   "cell_type": "code",
   "execution_count": null,
   "id": "5a2dd2dd",
   "metadata": {},
   "outputs": [],
   "source": [
    "for k, v in data.items():\n",
    "    data[k] = np.array(v)"
   ]
  },
  {
   "cell_type": "code",
   "execution_count": null,
   "id": "b4f0a99c",
   "metadata": {},
   "outputs": [],
   "source": [
    "data"
   ]
  },
  {
   "cell_type": "markdown",
   "id": "dd2386d7",
   "metadata": {},
   "source": [
    "## Simple average and bounds plot ##"
   ]
  },
  {
   "cell_type": "markdown",
   "id": "12e371d3",
   "metadata": {},
   "source": [
    "Break into chunks of `step` episodes"
   ]
  },
  {
   "cell_type": "code",
   "execution_count": null,
   "id": "a3d3fc29",
   "metadata": {},
   "outputs": [],
   "source": [
    "avg, lower, upper = [], [], []\n",
    "rewards = data['episode_reward']\n",
    "step = 1000\n",
    "for i in range(0, rewards.shape[0], step):\n",
    "    sub_rewards = rewards[i:i+step]\n",
    "    avg.append(np.mean(sub_rewards))\n",
    "    lower.append(np.amin(sub_rewards))\n",
    "    upper.append(np.amax(sub_rewards))"
   ]
  },
  {
   "cell_type": "code",
   "execution_count": null,
   "id": "eaa51650",
   "metadata": {},
   "outputs": [],
   "source": [
    "nb_steps = 5*MILLION\n",
    "nb_episodes = nb_steps/data['nb_episode_steps'][0]\n",
    "episodes = np.arange(step, nb_episodes+1, step)"
   ]
  },
  {
   "cell_type": "code",
   "execution_count": null,
   "id": "6670a7f1",
   "metadata": {},
   "outputs": [],
   "source": [
    "fig, ax = plt.subplots(figsize=(10, 7))\n",
    "\n",
    "ax.fill_between(episodes, lower, upper, alpha=0.3, label='Bounds', zorder=10)\n",
    "ax.plot(episodes, avg, color='C1', label='Average', zorder=20)\n",
    "\n",
    "ax.set_xlabel(r'Episodes', fontsize=18)\n",
    "ax.set_ylabel(r'Episode reward', fontsize=18)\n",
    "\n",
    "ax.legend(fontsize=13, loc='upper left', framealpha=1)\n",
    "    \n",
    "ax.xaxis.set_major_locator(MultipleLocator(20000))\n",
    "#ax.xaxis.set_major_formatter('{x:.0f}')\n",
    "ax.xaxis.set_minor_locator(MultipleLocator(5000))\n",
    "ax.yaxis.set_major_locator(MultipleLocator(50))\n",
    "#ax.yaxis.set_major_formatter('{x:.0f}')\n",
    "ax.yaxis.set_minor_locator(MultipleLocator(10))\n",
    "\n",
    "ax.grid(which='major')\n",
    "ax.grid(which='minor', alpha=0.5)\n",
    "\n",
    "for tick in ax.xaxis.get_major_ticks():\n",
    "    tick.label.set_fontsize(13)\n",
    "for tick in ax.yaxis.get_major_ticks():\n",
    "    tick.label.set_fontsize(13)\n",
    "\n",
    "fig.tight_layout()\n",
    "\n",
    "fig.savefig(get_plot_path(name, step))\n",
    "\n",
    "plt.show()"
   ]
  },
  {
   "cell_type": "markdown",
   "id": "5317b5fa",
   "metadata": {},
   "source": [
    "## Density plot ##"
   ]
  },
  {
   "cell_type": "code",
   "execution_count": null,
   "id": "444297cd",
   "metadata": {},
   "outputs": [],
   "source": [
    "def plot_density(name, bins=(200, 40), episodes=True, fformat=None):\n",
    "    fig, ax = plt.subplots(figsize=(10, 7))\n",
    "\n",
    "    bins = bins\n",
    "    \n",
    "    if episodes:\n",
    "        h, xedges, yedges, image = ax.hist2d(data['nb_steps']/50, data['episode_reward'],\n",
    "                                             bins=bins, cmap=plt.cm.jet, density=False, vmin=0, vmax=120)\n",
    "    else:\n",
    "        h, xedges, yedges, image = ax.hist2d(data['nb_steps'], data['episode_reward'],\n",
    "                                             bins=bins, cmap=plt.cm.jet, density=False, vmin=0, vmax=500)\n",
    "\n",
    "    if episodes:\n",
    "        ax.set_xlabel(r'Episode', fontsize=18)\n",
    "    else:\n",
    "        ax.set_xlabel(r'Step', fontsize=18)\n",
    "    ax.set_ylabel(r'Episode reward', fontsize=18)\n",
    "\n",
    "    #ax.legend(fontsize=13, loc='upper left', framealpha=1)\n",
    "\n",
    "    #ax.xaxis.set_major_locator(MultipleLocator(1*MILLION))\n",
    "    #ax.xaxis.set_major_formatter('{x:.0f}')\n",
    "    #ax.xaxis.set_minor_locator(MultipleLocator(500*THOUSAND))\n",
    "    #ax.yaxis.set_major_locator(MultipleLocator(50))\n",
    "    #ax.yaxis.set_major_formatter('{x:.0f}')\n",
    "    #ax.yaxis.set_minor_locator(MultipleLocator(10))\n",
    "\n",
    "    #ax.grid(which='major')\n",
    "    #ax.grid(which='minor', alpha=0.5)\n",
    "\n",
    "    for tick in ax.xaxis.get_major_ticks():\n",
    "        tick.label.set_fontsize(13)\n",
    "    for tick in ax.yaxis.get_major_ticks():\n",
    "        tick.label.set_fontsize(13)\n",
    "\n",
    "    divider = make_axes_locatable(ax)\n",
    "    cax = divider.append_axes('right', size='5%', pad=0.05)\n",
    "    cbar = fig.colorbar(image, cax=cax, orientation='vertical')\n",
    "    cbar.ax.set_ylabel('Frequency', labelpad=5, fontsize=18, rotation=90)\n",
    "    cbar.ax.tick_params(labelsize=13)\n",
    "\n",
    "    fig.tight_layout()\n",
    "\n",
    "    if fformat is not None:\n",
    "        fig.savefig(get_plot_path(name, fformat, bins))\n",
    "\n",
    "    plt.show()"
   ]
  },
  {
   "cell_type": "code",
   "execution_count": null,
   "id": "80d9baff",
   "metadata": {
    "scrolled": true
   },
   "outputs": [],
   "source": [
    "data['nb_steps'].shape"
   ]
  },
  {
   "cell_type": "code",
   "execution_count": null,
   "id": "c41ac2ec",
   "metadata": {},
   "outputs": [],
   "source": [
    "def plot_density_zoom(name, bins=(200, 40), episodes=True, fformat=None):\n",
    "    fig, ax = plt.subplots(figsize=(10, 7))\n",
    "\n",
    "    bins = bins\n",
    "    \n",
    "    if episodes:\n",
    "        h, xedges, yedges, image = ax.hist2d(data['nb_steps'][0:HUNDREDTHOUSAND]/50,\n",
    "                                             data['episode_reward'][0:HUNDREDTHOUSAND],\n",
    "                                             bins=bins, cmap=plt.cm.jet, density=False, vmin=0, vmax=120)\n",
    "    else:\n",
    "        h, xedges, yedges, image = ax.hist2d(data['nb_steps'][0:HUNDREDTHOUSAND],\n",
    "                                             data['episode_reward'][0:HUNDREDTHOUSAND],\n",
    "                                             bins=bins, cmap=plt.cm.jet, density=False, vmin=0, vmax=300)\n",
    "\n",
    "    if episodes:\n",
    "        ax.set_xlabel(r'Episode', fontsize=18)\n",
    "    else:\n",
    "        ax.set_xlabel(r'Step', fontsize=18)\n",
    "    ax.set_ylabel(r'Episode reward', fontsize=18)\n",
    "\n",
    "    #ax.legend(fontsize=13, loc='upper left', framealpha=1)\n",
    "\n",
    "    #ax.xaxis.set_major_locator(MultipleLocator(1*MILLION))\n",
    "    #ax.xaxis.set_major_formatter('{x:.0f}')\n",
    "    #ax.xaxis.set_minor_locator(MultipleLocator(500*THOUSAND))\n",
    "    #ax.yaxis.set_major_locator(MultipleLocator(50))\n",
    "    #ax.yaxis.set_major_formatter('{x:.0f}')\n",
    "    #ax.yaxis.set_minor_locator(MultipleLocator(10))\n",
    "\n",
    "    #ax.grid(which='major')\n",
    "    #ax.grid(which='minor', alpha=0.5)\n",
    "\n",
    "    for tick in ax.xaxis.get_major_ticks():\n",
    "        tick.label.set_fontsize(13)\n",
    "    for tick in ax.yaxis.get_major_ticks():\n",
    "        tick.label.set_fontsize(13)\n",
    "\n",
    "    divider = make_axes_locatable(ax)\n",
    "    cax = divider.append_axes('right', size='5%', pad=0.05)\n",
    "    cbar = fig.colorbar(image, cax=cax, orientation='vertical')\n",
    "    cbar.ax.set_ylabel('Frequency', labelpad=5, fontsize=18, rotation=90)\n",
    "    cbar.ax.tick_params(labelsize=13)\n",
    "\n",
    "    fig.tight_layout()\n",
    "\n",
    "    if fformat is not None:\n",
    "        fig.savefig(get_plot_path_zoom(name, fformat, bins))\n",
    "\n",
    "    plt.show()"
   ]
  },
  {
   "cell_type": "code",
   "execution_count": null,
   "id": "0794ce08",
   "metadata": {},
   "outputs": [],
   "source": [
    "plot_density(name, bins=(500, 40), episodes=False, fformat='pdf')"
   ]
  },
  {
   "cell_type": "code",
   "execution_count": null,
   "id": "1bf7fcd1",
   "metadata": {},
   "outputs": [],
   "source": [
    "plot_density_zoom(name, bins=(100, 40), episodes=False, fformat='jpg')"
   ]
  },
  {
   "cell_type": "code",
   "execution_count": null,
   "id": "22798995",
   "metadata": {},
   "outputs": [],
   "source": []
  }
 ],
 "metadata": {
  "kernelspec": {
   "display_name": "Python 3",
   "language": "python",
   "name": "python3"
  },
  "language_info": {
   "codemirror_mode": {
    "name": "ipython",
    "version": 3
   },
   "file_extension": ".py",
   "mimetype": "text/x-python",
   "name": "python",
   "nbconvert_exporter": "python",
   "pygments_lexer": "ipython3",
   "version": "3.7.10"
  }
 },
 "nbformat": 4,
 "nbformat_minor": 5
}
