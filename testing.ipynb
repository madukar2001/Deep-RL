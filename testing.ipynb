{
 "cells": [
  {
   "cell_type": "code",
   "execution_count": null,
   "id": "6dde6ddd",
   "metadata": {},
   "outputs": [],
   "source": [
    "import json\n",
    "import os\n",
    "\n",
    "import numpy as np\n",
    "\n",
    "import matplotlib\n",
    "import matplotlib.pyplot as plt\n",
    "from mpl_toolkits.axes_grid1 import make_axes_locatable\n",
    "from matplotlib.ticker import MultipleLocator, AutoMinorLocator\n",
    "from matplotlib import rc\n",
    "rc('font', **{'family': 'serif', 'serif': ['Computer Modern']})\n",
    "rc('text', usetex=True)\n",
    "%matplotlib inline"
   ]
  },
  {
   "cell_type": "code",
   "execution_count": null,
   "id": "e82b48d2",
   "metadata": {},
   "outputs": [],
   "source": [
    "from learning import *"
   ]
  },
  {
   "cell_type": "code",
   "execution_count": null,
   "id": "4da430d8",
   "metadata": {},
   "outputs": [],
   "source": [
    "THOUSAND = 1000\n",
    "MILLION = 1000000"
   ]
  },
  {
   "cell_type": "code",
   "execution_count": null,
   "id": "d66b0cfb",
   "metadata": {},
   "outputs": [],
   "source": [
    "def get_plot_path(versions, ftype):\n",
    "    return 'tests/v{}_vs_v{}/vplot.{}'.format(versions[0], versions[1], ftype)"
   ]
  },
  {
   "cell_type": "code",
   "execution_count": null,
   "id": "d3d18eda",
   "metadata": {},
   "outputs": [],
   "source": [
    "def get_plot_path_zoom(versions, ftype):\n",
    "    return 'tests/v{}_vs_v{}/vplot_zoom.{}'.format(versions[0], versions[1], ftype)"
   ]
  },
  {
   "cell_type": "code",
   "execution_count": null,
   "id": "b511aa73",
   "metadata": {},
   "outputs": [],
   "source": [
    "versions = (3, 35)"
   ]
  },
  {
   "cell_type": "code",
   "execution_count": null,
   "id": "347b6b72",
   "metadata": {},
   "outputs": [],
   "source": [
    "name1 = 'dqn30_5b5_3216_adam_lr0.001_tmu0.01_ml50K_ns5M_eps0.1_a6_b0'\n",
    "nb_episodes1 = 10*THOUSAND\n",
    "name2 = 'dqn35_5b5_3216_adam_lr0.001_tmu0.01_ml50K_ns5M_eps0.1_a6_b0'\n",
    "nb_episodes2 = 10*THOUSAND"
   ]
  },
  {
   "cell_type": "code",
   "execution_count": null,
   "id": "cf6fbe87",
   "metadata": {},
   "outputs": [],
   "source": [
    "rewards1 = np.loadtxt(get_test_path(name1, nb_episodes1))\n",
    "rewards2 = np.loadtxt(get_test_path(name2, nb_episodes2))"
   ]
  },
  {
   "cell_type": "markdown",
   "id": "2f209c42",
   "metadata": {},
   "source": [
    "## Violin plot ##"
   ]
  },
  {
   "cell_type": "markdown",
   "id": "ca438cad",
   "metadata": {},
   "source": [
    "https://matplotlib.org/stable/gallery/statistics/customized_violin.html#sphx-glr-gallery-statistics-customized-violin-py"
   ]
  },
  {
   "cell_type": "code",
   "execution_count": null,
   "id": "2cb1b742",
   "metadata": {},
   "outputs": [],
   "source": [
    "def adjacent_values(vals, q1, q3):\n",
    "    upper_adjacent_value = q3 + (q3 - q1) * 1.5\n",
    "    upper_adjacent_value = np.clip(upper_adjacent_value, q3, vals[-1])\n",
    "\n",
    "    lower_adjacent_value = q1 - (q3 - q1) * 1.5\n",
    "    lower_adjacent_value = np.clip(lower_adjacent_value, vals[0], q1)\n",
    "    return lower_adjacent_value, upper_adjacent_value"
   ]
  },
  {
   "cell_type": "code",
   "execution_count": null,
   "id": "12d79076",
   "metadata": {},
   "outputs": [],
   "source": [
    "# ALL DATA\n",
    "fig, ax = plt.subplots(figsize=(7, 7))\n",
    "\n",
    "data = (rewards1, rewards2)\n",
    "\n",
    "parts = ax.violinplot(data, showmeans=False, showmedians=False, showextrema=False)\n",
    "\n",
    "parts['bodies'][0].set_facecolor('#D43F3A')\n",
    "parts['bodies'][0].set_edgecolor('black')\n",
    "parts['bodies'][0].set_alpha(1)\n",
    "\n",
    "parts['bodies'][1].set_facecolor('#3a87d4')\n",
    "parts['bodies'][1].set_edgecolor('black')\n",
    "parts['bodies'][1].set_alpha(1)\n",
    "\n",
    "quartile1, medians, quartile3 = np.percentile(data, [25, 50, 75], axis=1)\n",
    "whiskers = np.array([\n",
    "    adjacent_values(np.sort(arr), q1, q3)\n",
    "    for arr, q1, q3 in zip(data, quartile1, quartile3)])\n",
    "whiskers_min, whiskers_max = whiskers[:, 0], whiskers[:, 1]\n",
    "\n",
    "inds = np.arange(1, len(medians) + 1)\n",
    "ax.scatter(inds, medians, marker='o', color='white', s=30, zorder=3)\n",
    "ax.vlines(inds, quartile1, quartile3, color='k', linestyle='-', lw=5)\n",
    "ax.vlines(inds, whiskers_min, whiskers_max, color='k', linestyle='-', lw=1)\n",
    "\n",
    "ax.set_xticks(np.arange(1, len(data) + 1))\n",
    "ax.set_xticklabels(('v3.0', 'v3.5'))\n",
    "\n",
    "ax.set_ylabel(r'Episode reward', fontsize=18)\n",
    "\n",
    "ax.yaxis.set_major_locator(MultipleLocator(10))\n",
    "#ax.yaxis.set_major_formatter('{x:.0f}')\n",
    "ax.yaxis.set_minor_locator(MultipleLocator(5))\n",
    "\n",
    "for tick in ax.xaxis.get_major_ticks():\n",
    "    tick.label.set_fontsize(18)\n",
    "for tick in ax.yaxis.get_major_ticks():\n",
    "    tick.label.set_fontsize(13)\n",
    "\n",
    "ax.xaxis.set_tick_params(pad=7)\n",
    "    \n",
    "fig.tight_layout()\n",
    "\n",
    "fig.savefig(get_plot_path(versions, 'pdf'))\n",
    "\n",
    "plt.show()"
   ]
  },
  {
   "cell_type": "code",
   "execution_count": null,
   "id": "604ecf86",
   "metadata": {},
   "outputs": [],
   "source": [
    "# ZOOM\n",
    "fig, ax = plt.subplots(figsize=(7, 7))\n",
    "\n",
    "threshold = -10\n",
    "\n",
    "data = (rewards1[rewards1 >= threshold], rewards2[rewards2 >= threshold])\n",
    "\n",
    "parts = ax.violinplot(data, showmeans=False, showmedians=False, showextrema=False)\n",
    "\n",
    "parts['bodies'][0].set_facecolor('#D43F3A')\n",
    "parts['bodies'][0].set_edgecolor('black')\n",
    "parts['bodies'][0].set_alpha(1)\n",
    "\n",
    "parts['bodies'][1].set_facecolor('#3a87d4')\n",
    "parts['bodies'][1].set_edgecolor('black')\n",
    "parts['bodies'][1].set_alpha(1)\n",
    "\n",
    "#quartile1, medians, quartile3 = np.percentile(data, [25, 50, 75], axis=1)\n",
    "#whiskers = np.array([\n",
    "#    adjacent_values(np.sort(arr), q1, q3)\n",
    "#    for arr, q1, q3 in zip(data, quartile1, quartile3)])\n",
    "#whiskers_min, whiskers_max = whiskers[:, 0], whiskers[:, 1]\n",
    "\n",
    "#inds = np.arange(1, len(medians) + 1)\n",
    "#ax.scatter(inds, medians, marker='o', color='white', s=30, zorder=3)\n",
    "#ax.vlines(inds, quartile1, quartile3, color='k', linestyle='-', lw=5)\n",
    "#ax.vlines(inds, whiskers_min, whiskers_max, color='k', linestyle='-', lw=1)\n",
    "\n",
    "ax.set_xticks(np.arange(1, len(data) + 1))\n",
    "ax.set_xticklabels(('v3.0', 'v3.5'))\n",
    "\n",
    "ax.set_ylabel(r'Episode reward', fontsize=18)\n",
    "\n",
    "ax.yaxis.set_major_locator(MultipleLocator(5))\n",
    "#ax.yaxis.set_major_formatter('{x:.0f}')\n",
    "ax.yaxis.set_minor_locator(MultipleLocator(1))\n",
    "\n",
    "for tick in ax.xaxis.get_major_ticks():\n",
    "    tick.label.set_fontsize(18)\n",
    "for tick in ax.yaxis.get_major_ticks():\n",
    "    tick.label.set_fontsize(13)\n",
    "\n",
    "ax.xaxis.set_tick_params(pad=7)\n",
    "    \n",
    "fig.tight_layout()\n",
    "\n",
    "fig.savefig(get_plot_path_zoom(versions, 'pdf'))\n",
    "\n",
    "plt.show()"
   ]
  },
  {
   "cell_type": "code",
   "execution_count": null,
   "id": "8ac6ce07",
   "metadata": {},
   "outputs": [],
   "source": []
  }
 ],
 "metadata": {
  "kernelspec": {
   "display_name": "Python 3",
   "language": "python",
   "name": "python3"
  },
  "language_info": {
   "codemirror_mode": {
    "name": "ipython",
    "version": 3
   },
   "file_extension": ".py",
   "mimetype": "text/x-python",
   "name": "python",
   "nbconvert_exporter": "python",
   "pygments_lexer": "ipython3",
   "version": "3.7.10"
  }
 },
 "nbformat": 4,
 "nbformat_minor": 5
}
